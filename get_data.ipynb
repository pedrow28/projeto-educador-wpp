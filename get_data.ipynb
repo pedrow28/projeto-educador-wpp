{
 "cells": [
  {
   "cell_type": "markdown",
   "metadata": {},
   "source": [
    "# Código para testar lógica do programa"
   ]
  },
  {
   "cell_type": "markdown",
   "metadata": {},
   "source": [
    "## Data"
   ]
  },
  {
   "cell_type": "code",
   "execution_count": 7,
   "metadata": {},
   "outputs": [
    {
     "name": "stdout",
     "output_type": "stream",
     "text": [
      "   Dia do curso                                 Descrição da lição\n",
      "0             1  \"Biografia de Jung, sua formação, influências ...\n",
      "1             2  \"Introdução aos conceitos básicos da psicologi...\n",
      "2             3  \"Explorar como Jung entendia o inconsciente, d...\n",
      "3             4  \"Definir o ego na psicologia analítica e seu p...\n",
      "4             5  \"Explorar o inconsciente pessoal, os complexos...\n",
      "--------------\n",
      "1\n"
     ]
    }
   ],
   "source": [
    "import openpyxl \n",
    "import pandas as pd\n",
    "\n",
    "# Carregar a planilha de Excel\n",
    "arquivo_excel = 'data\\\\ementa_jung.xlsx'  # Substitua pelo caminho do seu arquivo\n",
    "planilha = pd.read_excel(arquivo_excel)\n",
    "\n",
    "# Carregar dia do curso\n",
    "\n",
    "# Abrir e ler o arquivo txt\n",
    "with open('data\\\\dia_curso.txt', 'r') as arquivo:\n",
    "    conteudo = arquivo.read()\n",
    "\n",
    "# Extrair o número após o sinal de igual\n",
    "import re\n",
    "dia_atual = re.search(r'Dia atual do curso\\s*=\\s*(\\d+)', conteudo)\n",
    "dia_atual = int(dia_atual.group(1))\n",
    "\n",
    "# Exibir as primeiras linhas da planilha\n",
    "print(planilha.head())\n",
    "print(\"--------------\")\n",
    "print(dia_atual)\n",
    "\n"
   ]
  },
  {
   "cell_type": "markdown",
   "metadata": {},
   "source": [
    "## Lógica de pegar a ementa"
   ]
  },
  {
   "cell_type": "code",
   "execution_count": 9,
   "metadata": {},
   "outputs": [
    {
     "name": "stdout",
     "output_type": "stream",
     "text": [
      "\"Biografia de Jung, sua formação, influências e principais contribuições para a psicologia. Diferenciação entre a psicologia analítica e a psicanálise de Freud.\"\n"
     ]
    }
   ],
   "source": [
    "# Supondo que a coluna 'Dia' tem o número do dia e a coluna 'Ementa' tem a ementa correspondente\n",
    "ementa_dia = planilha.loc[planilha['Dia do curso'] == dia_atual, 'Descrição da lição'].values\n",
    "\n",
    "print(ementa_dia[0])"
   ]
  },
  {
   "cell_type": "markdown",
   "metadata": {},
   "source": [
    "## Chain e fazer lição"
   ]
  },
  {
   "cell_type": "code",
   "execution_count": 11,
   "metadata": {},
   "outputs": [
    {
     "name": "stdout",
     "output_type": "stream",
     "text": [
      "# Lição do Dia: Biografia de Jung, sua Formação, Influências e Principais Contribuições para a Psicologia\n",
      "\n",
      "\n",
      "\n",
      "## Introdução\n",
      "\n",
      "\n",
      "\n",
      "Carl Gustav Jung foi um dos mais influentes psicólogos do século XX, conhecido por fundar a psicologia analítica. Sua obra e ideias continuam a impactar a psicologia moderna, oferecendo uma perspectiva única sobre a mente humana. Nesta lição, exploraremos a biografia de Jung, suas influências, principais contribuições e como sua psicologia analítica se diferencia da psicanálise de Sigmund Freud.\n",
      "\n",
      "\n",
      "\n",
      "## Biografia e Formação\n",
      "\n",
      "\n",
      "\n",
      "Carl Jung nasceu em 26 de julho de 1875, em Kesswil, Suíça. Filho de um pastor protestante, Jung cresceu em um ambiente que mesclava espiritualidade e ciência. Estudou medicina na Universidade de Basel, onde se interessou pela psiquiatria, um campo emergente na época. Após sua graduação, trabalhou no Hospital Burghölzli, em Zurique, sob a orientação de Eugen Bleuler, um renomado psiquiatra.\n",
      "\n",
      "\n",
      "\n",
      "### Influências\n",
      "\n",
      "\n",
      "\n",
      "Jung foi profundamente influenciado por várias correntes de pensamento. A filosofia de Friedrich Nietzsche, a mitologia, a religião e a alquimia foram algumas das áreas que moldaram suas ideias. Além disso, sua amizade e posterior rompimento com Sigmund Freud tiveram um impacto significativo em sua carreira e desenvolvimento teórico.\n",
      "\n",
      "\n",
      "\n",
      "## Principais Contribuições para a Psicologia\n",
      "\n",
      "\n",
      "\n",
      "### Inconsciente Coletivo\n",
      "\n",
      "\n",
      "\n",
      "Uma das contribuições mais notáveis de Jung é o conceito de inconsciente coletivo. Diferente do inconsciente pessoal, que é composto por experiências e memórias individuais, o inconsciente coletivo é uma camada mais profunda da psique, compartilhada por toda a humanidade. Ele é composto por arquétipos, que são imagens e símbolos universais presentes em mitos, sonhos e religiões.\n",
      "\n",
      "\n",
      "\n",
      "### Arquétipos\n",
      "\n",
      "\n",
      "\n",
      "Os arquétipos são padrões de comportamento e imagens primordiais que influenciam a experiência humana. Exemplos de arquétipos incluem a Sombra, o Anima/Animus e o Self. Jung acreditava que a integração desses arquétipos era essencial para o desenvolvimento pessoal e a individuação, um processo de realização do potencial completo do indivíduo.\n",
      "\n",
      "\n",
      "\n",
      "### Psicologia Analítica\n",
      "\n",
      "\n",
      "\n",
      "A psicologia analítica de Jung se concentra na exploração do inconsciente e na integração dos opostos dentro da psique. Diferente da psicanálise freudiana, que enfatiza os conflitos sexuais e a repressão, a psicologia analítica busca um equilíbrio entre os aspectos conscientes e inconscientes da mente.\n",
      "\n",
      "\n",
      "\n",
      "## Diferenciação entre Psicologia Analítica e Psicanálise de Freud\n",
      "\n",
      "\n",
      "\n",
      "Embora Jung e Freud tenham começado como colaboradores, suas teorias divergiram significativamente. Freud focava no papel do inconsciente pessoal e nos conflitos sexuais como motores principais do comportamento humano. Em contraste, Jung expandiu o conceito de inconsciente para incluir o inconsciente coletivo e enfatizou a importância dos símbolos e mitos na compreensão da psique.\n",
      "\n",
      "\n",
      "\n",
      "### Exemplo Prático\n",
      "\n",
      "\n",
      "\n",
      "Um exemplo prático da diferença entre as abordagens de Jung e Freud pode ser visto na interpretação dos sonhos. Enquanto Freud via os sonhos principalmente como expressões de desejos reprimidos, Jung os considerava como comunicações do inconsciente coletivo, oferecendo insights sobre a jornada de individuação do sonhador.\n",
      "\n",
      "\n",
      "\n",
      "## Exercício Reflexivo\n",
      "\n",
      "\n",
      "\n",
      "Para consolidar o aprendizado, reflita sobre a seguinte questão: \n",
      "\n",
      "\n",
      "\n",
      "- **Como os conceitos de inconsciente coletivo e arquétipos podem ser aplicados para entender melhor a cultura e os comportamentos humanos contemporâneos?**\n",
      "\n",
      "\n",
      "\n",
      "Pense em exemplos de filmes, livros ou eventos atuais que possam ilustrar esses conceitos. Escreva um breve parágrafo sobre suas reflexões.\n",
      "\n",
      "\n",
      "\n",
      "---\n",
      "\n",
      "\n",
      "\n",
      "Esta lição oferece uma visão geral da vida e obra de Carl Jung, destacando suas contribuições únicas para a psicologia. Ao compreender suas ideias, podemos apreciar a profundidade e a complexidade da mente humana e sua expressão cultural.\n"
     ]
    }
   ],
   "source": [
    "from langchain_openai import ChatOpenAI  # Importa o módulo ChatOpenAI da biblioteca LangChain, para conectar-se ao modelo GPT da OpenAI\n",
    "from langchain_core.prompts import ChatPromptTemplate  # Importa o template de prompts para a interação com a LLM\n",
    "from langchain_core.output_parsers import StrOutputParser  # Importa o parser para processar a saída em formato de string\n",
    "from langchain_core.runnables import RunnableParallel, RunnablePassthrough  # Importa módulos que permitem a execução paralela e a passagem direta de dados\n",
    "from dotenv import load_dotenv  # Importa o dotenv para carregar variáveis de ambiente do arquivo .env\n",
    "import os\n",
    "\n",
    "\n",
    "# Carrega as variáveis de ambiente do arquivo .env\n",
    "load_dotenv()\n",
    "\n",
    "# Configura a chave da API da OpenAI no ambiente, que será usada para autenticar as chamadas à API\n",
    "os.environ[\"OPENAI_API_KEY\"] = os.getenv(\"OPENAI_API_KEY\")\n",
    "\n",
    "# Instancia o modelo GPT-4 da OpenAI com um nível de temperatura 0.0, o que significa que o modelo será determinístico\n",
    "llm = ChatOpenAI(model_name=\"gpt-4o\", temperature=0.0)\n",
    "\n",
    "\n",
    "template = \"\"\"\n",
    "Você é um especialista em educação e foi encarregado de gerar lições diárias curtas, entre 10 e 15 minutos de leitura, com base em uma ementa de estudo. A ementa já foi aprovada, e agora sua função é criar lições com conteúdos coesos e organizados. Cada lição deve ter um foco claro, progressivo e ser fácil de entender.\n",
    "\n",
    "Sua função agora é gerar a lição baseada no tópico abaixo, dividindo-a em subtópicos quando necessário. Sempre que possível, inclua exemplos práticos ou análises curtas de obras/textos relevantes. A lição também deve ter um exercício ou questão reflexiva no final para fixar o aprendizado.\n",
    "\n",
    "Aqui está o contexto e as regras que você deve seguir ao criar a lição:\n",
    "\n",
    "1. **Tópico do Dia**: {input}.\n",
    "2. **Objetivo**: Apresentar o conteúdo de maneira simples e progressiva, garantindo que o aluno entenda o conceito de forma clara e prática.\n",
    "3. **Estrutura**:\n",
    "   - Introduza o conceito de forma clara e objetiva.\n",
    "   - Detalhe os pontos principais, incluindo exemplos práticos quando aplicável.\n",
    "   - Se houver alguma obra ou texto relevante, inclua uma análise ou resumo do trecho.\n",
    "   - Finalize com uma pergunta reflexiva ou sugestão de exercício prático.\n",
    "4. **Tamanho**: Mantenha o conteúdo adequado para ser lido em 10 a 15 minutos.\n",
    "\n",
    "Agora, com base nessas instruções, crie uma lição de qualidade.\n",
    "\"\"\"\n",
    "\n",
    "# Constrói o template de prompt a partir da string anterior\n",
    "template_prompt = ChatPromptTemplate.from_template(template)\n",
    "\n",
    "# Define um parser para transformar a saída do modelo em uma string\n",
    "output_parser = StrOutputParser()\n",
    "\n",
    "## Configuração da Pipeline\n",
    "\n",
    "# Configura um \"retriever\" que passará o input diretamente para o próximo componente do pipeline\n",
    "setup_retrievel = RunnableParallel(\n",
    "    {\n",
    "        \"input\": RunnablePassthrough() # O RunnablePassthrough permite a passagem do input sem modificações\n",
    "    }\n",
    ")\n",
    "\n",
    "# Cria a pipeline, que executa em sequência:\n",
    "# 1. O input (tópico do dia) é passado diretamente.\n",
    "# 2. O template do prompt é aplicado, gerando o texto a ser enviado ao modelo.\n",
    "# 3. O modelo da OpenAI (GPT-4) é chamado para gerar a resposta.\n",
    "# 4. A saída é processada pelo output_parser, que transforma o resultado final em string.\n",
    "chain = setup_retrievel | template_prompt | llm | output_parser\n",
    "\n",
    "# Invoca a pipeline com o input fornecido (tópico da lição) e obtém a resposta gerada\n",
    "response = chain.invoke(ementa_dia[0])\n",
    "\n",
    "# Formata a resposta, adicionando uma linha em branco após cada nova linha para melhorar a legibilidade\n",
    "formatted_response = response.replace(\"\\n\", \"\\n\\n\")\n",
    "\n",
    "# Imprime a resposta formatada\n",
    "print(formatted_response)\n"
   ]
  }
 ],
 "metadata": {
  "kernelspec": {
   "display_name": "venv",
   "language": "python",
   "name": "python3"
  },
  "language_info": {
   "codemirror_mode": {
    "name": "ipython",
    "version": 3
   },
   "file_extension": ".py",
   "mimetype": "text/x-python",
   "name": "python",
   "nbconvert_exporter": "python",
   "pygments_lexer": "ipython3",
   "version": "3.12.6"
  }
 },
 "nbformat": 4,
 "nbformat_minor": 2
}
